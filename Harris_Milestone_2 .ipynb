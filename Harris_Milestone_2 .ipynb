{
 "cells": [
  {
   "cell_type": "markdown",
   "id": "afb17d01-b423-44f4-98ef-13eb9189b0cb",
   "metadata": {},
   "source": [
    "Project Milestone 2"
   ]
  },
  {
   "cell_type": "code",
   "execution_count": 11,
   "id": "ef5c1896-1ae0-48d2-804d-4b0523bf3a59",
   "metadata": {},
   "outputs": [],
   "source": [
    "import pandas as pd\n",
    "import numpy as np\n",
    "from matplotlib import pyplot as plt\n",
    "import seaborn as sns "
   ]
  },
  {
   "cell_type": "markdown",
   "id": "230e1b9a-3826-4bfa-b2b8-698ea14b5386",
   "metadata": {},
   "source": [
    "*Reading the csv file"
   ]
  },
  {
   "cell_type": "code",
   "execution_count": 12,
   "id": "3429d13e-864d-48a5-aa00-fea1cafe146c",
   "metadata": {},
   "outputs": [
    {
     "data": {
      "text/html": [
       "<div>\n",
       "<style scoped>\n",
       "    .dataframe tbody tr th:only-of-type {\n",
       "        vertical-align: middle;\n",
       "    }\n",
       "\n",
       "    .dataframe tbody tr th {\n",
       "        vertical-align: top;\n",
       "    }\n",
       "\n",
       "    .dataframe thead th {\n",
       "        text-align: right;\n",
       "    }\n",
       "</style>\n",
       "<table border=\"1\" class=\"dataframe\">\n",
       "  <thead>\n",
       "    <tr style=\"text-align: right;\">\n",
       "      <th></th>\n",
       "      <th>Unnamed: 0</th>\n",
       "      <th>Id</th>\n",
       "      <th>Student_Age</th>\n",
       "      <th>Sex</th>\n",
       "      <th>High_School_Type</th>\n",
       "      <th>Scholarship</th>\n",
       "      <th>Additional_Work</th>\n",
       "      <th>Sports_activity</th>\n",
       "      <th>Transportation</th>\n",
       "      <th>Weekly_Study_Hours</th>\n",
       "      <th>Attendance</th>\n",
       "      <th>Reading</th>\n",
       "      <th>Notes</th>\n",
       "      <th>Listening_in_Class</th>\n",
       "      <th>Project_work</th>\n",
       "      <th>Grade</th>\n",
       "    </tr>\n",
       "  </thead>\n",
       "  <tbody>\n",
       "    <tr>\n",
       "      <th>0</th>\n",
       "      <td>0</td>\n",
       "      <td>5001</td>\n",
       "      <td>21</td>\n",
       "      <td>Male</td>\n",
       "      <td>Other</td>\n",
       "      <td>50%</td>\n",
       "      <td>Yes</td>\n",
       "      <td>No</td>\n",
       "      <td>Private</td>\n",
       "      <td>0</td>\n",
       "      <td>Always</td>\n",
       "      <td>Yes</td>\n",
       "      <td>Yes</td>\n",
       "      <td>No</td>\n",
       "      <td>No</td>\n",
       "      <td>AA</td>\n",
       "    </tr>\n",
       "    <tr>\n",
       "      <th>1</th>\n",
       "      <td>1</td>\n",
       "      <td>5002</td>\n",
       "      <td>20</td>\n",
       "      <td>Male</td>\n",
       "      <td>Other</td>\n",
       "      <td>50%</td>\n",
       "      <td>Yes</td>\n",
       "      <td>No</td>\n",
       "      <td>Private</td>\n",
       "      <td>0</td>\n",
       "      <td>Always</td>\n",
       "      <td>Yes</td>\n",
       "      <td>No</td>\n",
       "      <td>Yes</td>\n",
       "      <td>Yes</td>\n",
       "      <td>AA</td>\n",
       "    </tr>\n",
       "    <tr>\n",
       "      <th>2</th>\n",
       "      <td>2</td>\n",
       "      <td>5003</td>\n",
       "      <td>21</td>\n",
       "      <td>Male</td>\n",
       "      <td>State</td>\n",
       "      <td>50%</td>\n",
       "      <td>No</td>\n",
       "      <td>No</td>\n",
       "      <td>Private</td>\n",
       "      <td>2</td>\n",
       "      <td>Never</td>\n",
       "      <td>No</td>\n",
       "      <td>No</td>\n",
       "      <td>No</td>\n",
       "      <td>Yes</td>\n",
       "      <td>AA</td>\n",
       "    </tr>\n",
       "    <tr>\n",
       "      <th>3</th>\n",
       "      <td>3</td>\n",
       "      <td>5004</td>\n",
       "      <td>18</td>\n",
       "      <td>Female</td>\n",
       "      <td>Private</td>\n",
       "      <td>50%</td>\n",
       "      <td>Yes</td>\n",
       "      <td>No</td>\n",
       "      <td>Bus</td>\n",
       "      <td>2</td>\n",
       "      <td>Always</td>\n",
       "      <td>No</td>\n",
       "      <td>Yes</td>\n",
       "      <td>No</td>\n",
       "      <td>No</td>\n",
       "      <td>AA</td>\n",
       "    </tr>\n",
       "    <tr>\n",
       "      <th>4</th>\n",
       "      <td>4</td>\n",
       "      <td>5005</td>\n",
       "      <td>22</td>\n",
       "      <td>Male</td>\n",
       "      <td>Private</td>\n",
       "      <td>50%</td>\n",
       "      <td>No</td>\n",
       "      <td>No</td>\n",
       "      <td>Bus</td>\n",
       "      <td>12</td>\n",
       "      <td>Always</td>\n",
       "      <td>Yes</td>\n",
       "      <td>No</td>\n",
       "      <td>Yes</td>\n",
       "      <td>Yes</td>\n",
       "      <td>AA</td>\n",
       "    </tr>\n",
       "    <tr>\n",
       "      <th>...</th>\n",
       "      <td>...</td>\n",
       "      <td>...</td>\n",
       "      <td>...</td>\n",
       "      <td>...</td>\n",
       "      <td>...</td>\n",
       "      <td>...</td>\n",
       "      <td>...</td>\n",
       "      <td>...</td>\n",
       "      <td>...</td>\n",
       "      <td>...</td>\n",
       "      <td>...</td>\n",
       "      <td>...</td>\n",
       "      <td>...</td>\n",
       "      <td>...</td>\n",
       "      <td>...</td>\n",
       "      <td>...</td>\n",
       "    </tr>\n",
       "    <tr>\n",
       "      <th>140</th>\n",
       "      <td>140</td>\n",
       "      <td>5141</td>\n",
       "      <td>22</td>\n",
       "      <td>Female</td>\n",
       "      <td>State</td>\n",
       "      <td>50%</td>\n",
       "      <td>Yes</td>\n",
       "      <td>Yes</td>\n",
       "      <td>Private</td>\n",
       "      <td>0</td>\n",
       "      <td>Always</td>\n",
       "      <td>No</td>\n",
       "      <td>Yes</td>\n",
       "      <td>No</td>\n",
       "      <td>Yes</td>\n",
       "      <td>CC</td>\n",
       "    </tr>\n",
       "    <tr>\n",
       "      <th>141</th>\n",
       "      <td>141</td>\n",
       "      <td>5142</td>\n",
       "      <td>18</td>\n",
       "      <td>Female</td>\n",
       "      <td>State</td>\n",
       "      <td>75%</td>\n",
       "      <td>No</td>\n",
       "      <td>No</td>\n",
       "      <td>Private</td>\n",
       "      <td>0</td>\n",
       "      <td>Never</td>\n",
       "      <td>No</td>\n",
       "      <td>Yes</td>\n",
       "      <td>Yes</td>\n",
       "      <td>No</td>\n",
       "      <td>CC</td>\n",
       "    </tr>\n",
       "    <tr>\n",
       "      <th>142</th>\n",
       "      <td>142</td>\n",
       "      <td>5143</td>\n",
       "      <td>18</td>\n",
       "      <td>Female</td>\n",
       "      <td>Private</td>\n",
       "      <td>75%</td>\n",
       "      <td>No</td>\n",
       "      <td>No</td>\n",
       "      <td>Private</td>\n",
       "      <td>0</td>\n",
       "      <td>Always</td>\n",
       "      <td>Yes</td>\n",
       "      <td>No</td>\n",
       "      <td>No</td>\n",
       "      <td>No</td>\n",
       "      <td>AA</td>\n",
       "    </tr>\n",
       "    <tr>\n",
       "      <th>143</th>\n",
       "      <td>143</td>\n",
       "      <td>5144</td>\n",
       "      <td>22</td>\n",
       "      <td>Female</td>\n",
       "      <td>State</td>\n",
       "      <td>75%</td>\n",
       "      <td>Yes</td>\n",
       "      <td>Yes</td>\n",
       "      <td>Bus</td>\n",
       "      <td>12</td>\n",
       "      <td>Sometimes</td>\n",
       "      <td>No</td>\n",
       "      <td>Yes</td>\n",
       "      <td>No</td>\n",
       "      <td>Yes</td>\n",
       "      <td>CB</td>\n",
       "    </tr>\n",
       "    <tr>\n",
       "      <th>144</th>\n",
       "      <td>144</td>\n",
       "      <td>5145</td>\n",
       "      <td>18</td>\n",
       "      <td>Female</td>\n",
       "      <td>Private</td>\n",
       "      <td>100%</td>\n",
       "      <td>No</td>\n",
       "      <td>No</td>\n",
       "      <td>Private</td>\n",
       "      <td>12</td>\n",
       "      <td>Always</td>\n",
       "      <td>Yes</td>\n",
       "      <td>No</td>\n",
       "      <td>Yes</td>\n",
       "      <td>No</td>\n",
       "      <td>BB</td>\n",
       "    </tr>\n",
       "  </tbody>\n",
       "</table>\n",
       "<p>145 rows × 16 columns</p>\n",
       "</div>"
      ],
      "text/plain": [
       "     Unnamed: 0    Id  Student_Age     Sex High_School_Type Scholarship  \\\n",
       "0             0  5001           21    Male            Other         50%   \n",
       "1             1  5002           20    Male            Other         50%   \n",
       "2             2  5003           21    Male            State         50%   \n",
       "3             3  5004           18  Female          Private         50%   \n",
       "4             4  5005           22    Male          Private         50%   \n",
       "..          ...   ...          ...     ...              ...         ...   \n",
       "140         140  5141           22  Female            State         50%   \n",
       "141         141  5142           18  Female            State         75%   \n",
       "142         142  5143           18  Female          Private         75%   \n",
       "143         143  5144           22  Female            State         75%   \n",
       "144         144  5145           18  Female          Private        100%   \n",
       "\n",
       "    Additional_Work Sports_activity Transportation  Weekly_Study_Hours  \\\n",
       "0               Yes              No        Private                   0   \n",
       "1               Yes              No        Private                   0   \n",
       "2                No              No        Private                   2   \n",
       "3               Yes              No            Bus                   2   \n",
       "4                No              No            Bus                  12   \n",
       "..              ...             ...            ...                 ...   \n",
       "140             Yes             Yes        Private                   0   \n",
       "141              No              No        Private                   0   \n",
       "142              No              No        Private                   0   \n",
       "143             Yes             Yes            Bus                  12   \n",
       "144              No              No        Private                  12   \n",
       "\n",
       "    Attendance Reading Notes Listening_in_Class Project_work Grade  \n",
       "0       Always     Yes   Yes                 No           No    AA  \n",
       "1       Always     Yes    No                Yes          Yes    AA  \n",
       "2        Never      No    No                 No          Yes    AA  \n",
       "3       Always      No   Yes                 No           No    AA  \n",
       "4       Always     Yes    No                Yes          Yes    AA  \n",
       "..         ...     ...   ...                ...          ...   ...  \n",
       "140     Always      No   Yes                 No          Yes    CC  \n",
       "141      Never      No   Yes                Yes           No    CC  \n",
       "142     Always     Yes    No                 No           No    AA  \n",
       "143  Sometimes      No   Yes                 No          Yes    CB  \n",
       "144     Always     Yes    No                Yes           No    BB  \n",
       "\n",
       "[145 rows x 16 columns]"
      ]
     },
     "execution_count": 12,
     "metadata": {},
     "output_type": "execute_result"
    }
   ],
   "source": [
    "student= pd.read_csv('student.csv')\n",
    "student"
   ]
  },
  {
   "cell_type": "markdown",
   "id": "b8ba91bf-d851-48cc-b188-f2d2dc99ef7a",
   "metadata": {},
   "source": [
    "* Cleaning up the Data and narrowing do the columns into the student habits/ behaviors. These will be the columns I use to create my visualizations."
   ]
  },
  {
   "cell_type": "code",
   "execution_count": 28,
   "id": "03ec77e4-6c60-4639-87a7-aa86992946bc",
   "metadata": {},
   "outputs": [
    {
     "data": {
      "text/html": [
       "<div>\n",
       "<style scoped>\n",
       "    .dataframe tbody tr th:only-of-type {\n",
       "        vertical-align: middle;\n",
       "    }\n",
       "\n",
       "    .dataframe tbody tr th {\n",
       "        vertical-align: top;\n",
       "    }\n",
       "\n",
       "    .dataframe thead th {\n",
       "        text-align: right;\n",
       "    }\n",
       "</style>\n",
       "<table border=\"1\" class=\"dataframe\">\n",
       "  <thead>\n",
       "    <tr style=\"text-align: right;\">\n",
       "      <th></th>\n",
       "      <th>Weekly_Study_Hours</th>\n",
       "      <th>Attendance</th>\n",
       "      <th>Reading</th>\n",
       "      <th>Notes</th>\n",
       "      <th>Listening_in_Class</th>\n",
       "      <th>Grade</th>\n",
       "    </tr>\n",
       "  </thead>\n",
       "  <tbody>\n",
       "    <tr>\n",
       "      <th>0</th>\n",
       "      <td>0</td>\n",
       "      <td>Always</td>\n",
       "      <td>Yes</td>\n",
       "      <td>Yes</td>\n",
       "      <td>No</td>\n",
       "      <td>AA</td>\n",
       "    </tr>\n",
       "    <tr>\n",
       "      <th>1</th>\n",
       "      <td>0</td>\n",
       "      <td>Always</td>\n",
       "      <td>Yes</td>\n",
       "      <td>No</td>\n",
       "      <td>Yes</td>\n",
       "      <td>AA</td>\n",
       "    </tr>\n",
       "    <tr>\n",
       "      <th>2</th>\n",
       "      <td>2</td>\n",
       "      <td>Never</td>\n",
       "      <td>No</td>\n",
       "      <td>No</td>\n",
       "      <td>No</td>\n",
       "      <td>AA</td>\n",
       "    </tr>\n",
       "    <tr>\n",
       "      <th>3</th>\n",
       "      <td>2</td>\n",
       "      <td>Always</td>\n",
       "      <td>No</td>\n",
       "      <td>Yes</td>\n",
       "      <td>No</td>\n",
       "      <td>AA</td>\n",
       "    </tr>\n",
       "    <tr>\n",
       "      <th>4</th>\n",
       "      <td>12</td>\n",
       "      <td>Always</td>\n",
       "      <td>Yes</td>\n",
       "      <td>No</td>\n",
       "      <td>Yes</td>\n",
       "      <td>AA</td>\n",
       "    </tr>\n",
       "    <tr>\n",
       "      <th>...</th>\n",
       "      <td>...</td>\n",
       "      <td>...</td>\n",
       "      <td>...</td>\n",
       "      <td>...</td>\n",
       "      <td>...</td>\n",
       "      <td>...</td>\n",
       "    </tr>\n",
       "    <tr>\n",
       "      <th>140</th>\n",
       "      <td>0</td>\n",
       "      <td>Always</td>\n",
       "      <td>No</td>\n",
       "      <td>Yes</td>\n",
       "      <td>No</td>\n",
       "      <td>CC</td>\n",
       "    </tr>\n",
       "    <tr>\n",
       "      <th>141</th>\n",
       "      <td>0</td>\n",
       "      <td>Never</td>\n",
       "      <td>No</td>\n",
       "      <td>Yes</td>\n",
       "      <td>Yes</td>\n",
       "      <td>CC</td>\n",
       "    </tr>\n",
       "    <tr>\n",
       "      <th>142</th>\n",
       "      <td>0</td>\n",
       "      <td>Always</td>\n",
       "      <td>Yes</td>\n",
       "      <td>No</td>\n",
       "      <td>No</td>\n",
       "      <td>AA</td>\n",
       "    </tr>\n",
       "    <tr>\n",
       "      <th>143</th>\n",
       "      <td>12</td>\n",
       "      <td>Sometimes</td>\n",
       "      <td>No</td>\n",
       "      <td>Yes</td>\n",
       "      <td>No</td>\n",
       "      <td>CB</td>\n",
       "    </tr>\n",
       "    <tr>\n",
       "      <th>144</th>\n",
       "      <td>12</td>\n",
       "      <td>Always</td>\n",
       "      <td>Yes</td>\n",
       "      <td>No</td>\n",
       "      <td>Yes</td>\n",
       "      <td>BB</td>\n",
       "    </tr>\n",
       "  </tbody>\n",
       "</table>\n",
       "<p>145 rows × 6 columns</p>\n",
       "</div>"
      ],
      "text/plain": [
       "     Weekly_Study_Hours Attendance Reading Notes Listening_in_Class Grade\n",
       "0                     0     Always     Yes   Yes                 No    AA\n",
       "1                     0     Always     Yes    No                Yes    AA\n",
       "2                     2      Never      No    No                 No    AA\n",
       "3                     2     Always      No   Yes                 No    AA\n",
       "4                    12     Always     Yes    No                Yes    AA\n",
       "..                  ...        ...     ...   ...                ...   ...\n",
       "140                   0     Always      No   Yes                 No    CC\n",
       "141                   0      Never      No   Yes                Yes    CC\n",
       "142                   0     Always     Yes    No                 No    AA\n",
       "143                  12  Sometimes      No   Yes                 No    CB\n",
       "144                  12     Always     Yes    No                Yes    BB\n",
       "\n",
       "[145 rows x 6 columns]"
      ]
     },
     "execution_count": 28,
     "metadata": {},
     "output_type": "execute_result"
    }
   ],
   "source": [
    "selected_columns = ['Weekly_Study_Hours', 'Attendance', 'Reading', 'Notes', 'Listening_in_Class', 'Grade']\n",
    "\n",
    "stu_narrowed = student[selected_columns]\n",
    "stu_narrowed"
   ]
  },
  {
   "cell_type": "markdown",
   "id": "68e901ad-7882-4ec6-8056-eb8faa749ef4",
   "metadata": {},
   "source": [
    "#removing rows with 6 as the 'notes' and 'Listening_in_Class'\n",
    "\n",
    "*removing the row with 3 as the value for 'Attendance'\n"
   ]
  },
  {
   "cell_type": "code",
   "execution_count": 33,
   "id": "05c97d69-1ec7-429a-b569-1257aee7c0d6",
   "metadata": {
    "scrolled": true
   },
   "outputs": [],
   "source": [
    "stu_clean = stu_narrowed[stu_narrowed['Notes'] != '6']\n",
    "stu_clean = stu_narrowed[stu_narrowed['Listening_in_Class'] != '6']\n",
    "\n",
    "stu_clean= stu_narrowed[stu_narrowed['Attendance'] !='3']"
   ]
  },
  {
   "cell_type": "markdown",
   "id": "f51343c0-e8b3-42e3-b9c5-ad713c5d08d3",
   "metadata": {},
   "source": [
    "*When it comes to creating a visualization for this project, I want to make a visualization that is easily readable by my audiences, which are high school students and as well as other staff in my department. Since my data is mostly categorical, I will use categorical visualizations."
   ]
  },
  {
   "attachments": {},
   "cell_type": "markdown",
   "id": "91d5f25c-f8b2-4e16-8dcd-71b68cdd10d9",
   "metadata": {},
   "source": [
    "FIGURE 1\n",
    "Pros:\n",
    "-Easily compares grades across study hour levels.\n",
    "-Quickly understand the study hour-grade relationship.\n",
    "\n",
    "\n",
    "Cons:\n",
    "-Limited details because it doesn't show grade variation within each study hour level\n",
    "-Can be misinterpreted\n"
   ]
  },
  {
   "cell_type": "code",
   "execution_count": 62,
   "id": "e0e46820-d70e-4f88-9960-459d4541afc7",
   "metadata": {
    "scrolled": true
   },
   "outputs": [
    {
     "data": {
      "image/png": "[encoded data removed]",
      "text/plain": [
       "<Figure size 640x480 with 1 Axes>"
      ]
     },
     "metadata": {},
     "output_type": "display_data"
    }
   ],
   "source": [
    "fig1= sns.barplot(x='Grade', y= 'Weekly_Study_Hours', data=stu_clean)\n",
    "plt.title('Average Grade by Weekly Study Hours')\n",
    "plt.xlabel('Grade')\n",
    "plt.ylabel('Weekly Study Hours')\n",
    "plt.show()"
   ]
  },
  {
   "cell_type": "markdown",
   "id": "878788c6-bb63-4c6b-8c60-3e19fcbeb831",
   "metadata": {},
   "source": [
    "FIGURE 2\n",
    "\n",
    "Pros:\n",
    "-More variation by comparing weekly study hours across different attendance levels and grades outcomes\n",
    "\n",
    "Cons:\n",
    "-A bit difficut to read, a little overcrowded.\n",
    "-May be difficult to understand the outliers"
   ]
  },
  {
   "cell_type": "code",
   "execution_count": 60,
   "id": "d9474ed4-5b69-4b31-a552-219943e783ec",
   "metadata": {
    "scrolled": true
   },
   "outputs": [
    {
     "data": {
      "text/plain": [
       "Text(38.232753906250004, 0.5, 'Weekly Study Hours')"
      ]
     },
     "execution_count": 60,
     "metadata": {},
     "output_type": "execute_result"
    },
    {
     "data": {
      "image/png": "[encoded data removed]",
      "text/plain": [
       "<Figure size 573.125x500 with 1 Axes>"
      ]
     },
     "metadata": {},
     "output_type": "display_data"
    }
   ],
   "source": [
    "fig2= sns.catplot(data=stu_clean, x=\"Attendance\", y=\"Weekly_Study_Hours\", hue=\"Grade\", kind=\"box\")\n",
    "plt.ylabel('Weekly Study Hours')"
   ]
  },
  {
   "cell_type": "markdown",
   "id": "a5bf6bbf-902c-4f79-9669-4ff4c634912f",
   "metadata": {},
   "source": [
    "FIGURE 3\n",
    "\n",
    "Pros: \n",
    "-Relationship between notetaking and grades can easily be intepreted\n",
    "\n",
    "Cons:\n",
    "\n",
    "-Lacks detail and variation across other categories\n"
   ]
  },
  {
   "cell_type": "code",
   "execution_count": 53,
   "id": "a651f0f0-3e3f-4e92-ad28-7cd2023325a5",
   "metadata": {},
   "outputs": [
    {
     "data": {
      "text/plain": [
       "Text(0.5, 29.140624999999986, 'Weekly Study Hours')"
      ]
     },
     "execution_count": 53,
     "metadata": {},
     "output_type": "execute_result"
    },
    {
     "data": {
      "image/png": "[encoded data removed]",
      "text/plain": [
       "<Figure size 573.125x500 with 1 Axes>"
      ]
     },
     "metadata": {},
     "output_type": "display_data"
    }
   ],
   "source": [
    "fig3 = sns.catplot(data=stu_clean, x= \"Weekly_Study_Hours\", y=\"Notes\", hue=\"Grade\", kind=\"bar\")\n",
    "plt.xlabel('Weekly Study Hours')"
   ]
  },
  {
   "cell_type": "markdown",
   "id": "b7520ef2-6eb4-46be-98d0-448011b7ca08",
   "metadata": {},
   "source": [
    "FIGURE 4\n",
    "\n",
    "Pros:\n",
    "-Shows individual data points, which helps with understanding grade distribution\n",
    "\n",
    "Cons:\n",
    "\n",
    "-Hard to understand and can be easily misinterpretreted.\n",
    "-Limited comparision of the variables."
   ]
  },
  {
   "cell_type": "code",
   "execution_count": 50,
   "id": "454c1843-880e-467e-b521-4e00f49e7031",
   "metadata": {},
   "outputs": [
    {
     "name": "stderr",
     "output_type": "stream",
     "text": [
      "/Users/candicereneeharris/anaconda3/lib/python3.11/site-packages/seaborn/_oldcore.py:1119: FutureWarning: use_inf_as_na option is deprecated and will be removed in a future version. Convert inf values to NaN before operating instead.\n",
      "  with pd.option_context('mode.use_inf_as_na', True):\n",
      "/Users/candicereneeharris/anaconda3/lib/python3.11/site-packages/seaborn/_oldcore.py:1119: FutureWarning: use_inf_as_na option is deprecated and will be removed in a future version. Convert inf values to NaN before operating instead.\n",
      "  with pd.option_context('mode.use_inf_as_na', True):\n"
     ]
    },
    {
     "data": {
      "image/png": "[encoded data removed]",
      "text/plain": [
       "<Figure size 640x480 with 1 Axes>"
      ]
     },
     "metadata": {},
     "output_type": "display_data"
    }
   ],
   "source": [
    "fig 4= sns.swarmplot(x='Listening_in_Class', y='Grade', data=stu_clean)\n",
    "plt.title('Grade by Listening in Class')\n",
    "plt.xlabel('Listening in Class')\n",
    "plt.ylabel('Grade')\n",
    "plt.show()\n",
    "\n"
   ]
  },
  {
   "cell_type": "markdown",
   "id": "d2d599e6-50b7-4069-a49b-c8779fbc98fb",
   "metadata": {},
   "source": [
    "Takeaways and Next Steps:\n",
    "\n",
    "-Based on my reviews of each figure, I am narrowing down my visualization choice to using a stacked barplot. In this barplot, I will have the Grade on the x-axis and a count for each category (student habit) on the y-axis. I believe this will be the most effective, and easily interpreted representation of the data. I also would like to make my figure interactive, as this will need to be engaging for high school students. In the interactive figue, I would like to make the legend clickable, where it would highlight each category that is clicked.\n",
    "\n",
    "-One change I am contemplating is translating the grade values into new values. For example, instead of AA, AB, CC, CD, I would replace them with Great, Good, Average, Below Average, and Fail. I think this will help to not overcrowd the figure and make it more readable, wihtout guessing which grade value it is."
   ]
  }
 ],
 "metadata": {
  "kernelspec": {
   "display_name": "Python 3 (ipykernel)",
   "language": "python",
   "name": "python3"
  },
  "language_info": {
   "codemirror_mode": {
    "name": "ipython",
    "version": 3
   },
   "file_extension": ".py",
   "mimetype": "text/x-python",
   "name": "python",
   "nbconvert_exporter": "python",
   "pygments_lexer": "ipython3",
   "version": "3.11.5"
  }
 },
 "nbformat": 4,
 "nbformat_minor": 5
}
