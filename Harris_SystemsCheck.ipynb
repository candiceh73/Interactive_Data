{
 "cells": [
  {
   "cell_type": "markdown",
   "id": "d338fade-1747-45a2-823e-5b1bd149705b",
   "metadata": {},
   "source": [
    "I am *very* excited to learn a new coding langage!"
   ]
  },
  {
   "cell_type": "markdown",
   "id": "778d8864-1c13-415a-ade3-d90899cb048a",
   "metadata": {},
   "source": [
    "I **hope** to gain a deeper understanding of how to work with data in a **practical** way."
   ]
  },
  {
   "cell_type": "markdown",
   "id": "007ba1ea-bee3-4a1e-af72-c0535f7920c1",
   "metadata": {},
   "source": [
    "# One of my goals \n",
    "## for this class\n",
    "### is to earn\n",
    "#### an A!"
   ]
  },
  {
   "cell_type": "markdown",
   "id": "0695dd1e-b946-4f51-bbf4-0a9cac636164",
   "metadata": {},
   "source": [
    "1) Success\n",
    "2) Hardwork\n",
    "3) Dedication\n",
    "4) Ambition\n",
    "5) Discipline\n",
    "6) Achievement"
   ]
  },
  {
   "cell_type": "markdown",
   "id": "75c444be-55a5-481b-aca7-4ffe04072748",
   "metadata": {},
   "source": [
    "![Image](https://uxwing.com/wp-content/themes/uxwing/download/relationship-love/red-heart-icon.png)"
   ]
  },
  {
   "cell_type": "code",
   "execution_count": 3,
   "id": "96b9257a-e4da-40b0-8676-406557b211ef",
   "metadata": {},
   "outputs": [],
   "source": [
    "y = 2024"
   ]
  },
  {
   "cell_type": "code",
   "execution_count": 4,
   "id": "f6a3cf3d-f196-44d1-81aa-8868d701a9cd",
   "metadata": {},
   "outputs": [
    {
     "name": "stdout",
     "output_type": "stream",
     "text": [
      "2024\n"
     ]
    }
   ],
   "source": [
    "print(y)"
   ]
  },
  {
   "cell_type": "code",
   "execution_count": 7,
   "id": "d91c0e4f-2163-4efb-b0bc-5bd17c9a7b84",
   "metadata": {},
   "outputs": [
    {
     "name": "stdout",
     "output_type": "stream",
     "text": [
      "red\n",
      "orange\n",
      "yellow\n"
     ]
    }
   ],
   "source": [
    "for i in [\"red\",\"orange\",\"yellow\"]:\n",
    "    print(i)"
   ]
  },
  {
   "cell_type": "code",
   "execution_count": 28,
   "id": "e5a51c70-0b97-4389-a692-35b63881b527",
   "metadata": {},
   "outputs": [
    {
     "name": "stdout",
     "output_type": "stream",
     "text": [
      "12\n"
     ]
    }
   ],
   "source": [
    "def adding_machine(n1,n2):\n",
    "    answer= n1 + n2\n",
    "    print(answer)\n",
    "num1= 9\n",
    "num2= 3\n",
    "\n",
    "adding_machine(num1,num2)\n"
   ]
  },
  {
   "cell_type": "code",
   "execution_count": 43,
   "id": "9c651096-0f6e-4247-9fd1-1c824a90f6ce",
   "metadata": {},
   "outputs": [
    {
     "name": "stdout",
     "output_type": "stream",
     "text": [
      "12\n"
     ]
    }
   ],
   "source": [
    "def adding_machine(n1, n2):\n",
    "    y = n1 + n2\n",
    "    return y\n",
    "\n",
    "num1 = 9\n",
    "num2 = 3\n",
    "\n",
    "result = adding_machine(num1, num2)\n",
    "print(result)\n"
   ]
  },
  {
   "cell_type": "code",
   "execution_count": null,
   "id": "98dd4c75-cf11-40ca-b643-d4698587d80f",
   "metadata": {},
   "outputs": [],
   "source": []
  },
  {
   "cell_type": "code",
   "execution_count": null,
   "id": "3bc7ca3d-5a1d-4951-94e6-e19654379b40",
   "metadata": {},
   "outputs": [],
   "source": []
  }
 ],
 "metadata": {
  "kernelspec": {
   "display_name": "Python 3 (ipykernel)",
   "language": "python",
   "name": "python3"
  },
  "language_info": {
   "codemirror_mode": {
    "name": "ipython",
    "version": 3
   },
   "file_extension": ".py",
   "mimetype": "text/x-python",
   "name": "python",
   "nbconvert_exporter": "python",
   "pygments_lexer": "ipython3",
   "version": "3.11.5"
  }
 },
 "nbformat": 4,
 "nbformat_minor": 5
}
